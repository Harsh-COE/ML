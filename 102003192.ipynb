{
  "nbformat": 4,
  "nbformat_minor": 0,
  "metadata": {
    "colab": {
      "name": "102003192.ipynb",
      "provenance": [],
      "collapsed_sections": [],
      "include_colab_link": true
    },
    "kernelspec": {
      "name": "python3",
      "display_name": "Python 3"
    },
    "language_info": {
      "name": "python"
    }
  },
  "cells": [
    {
      "cell_type": "markdown",
      "metadata": {
        "id": "view-in-github",
        "colab_type": "text"
      },
      "source": [
        "<a href=\"https://colab.research.google.com/github/Harsh-COE/ML/blob/main/102003192.ipynb\" target=\"_parent\"><img src=\"https://colab.research.google.com/assets/colab-badge.svg\" alt=\"Open In Colab\"/></a>"
      ]
    },
    {
      "cell_type": "code",
      "execution_count": null,
      "metadata": {
        "colab": {
          "base_uri": "https://localhost:8080/"
        },
        "id": "WF236WGvwQt7",
        "outputId": "38a73c54-287c-4134-e32d-8c757afc7fa8"
      },
      "outputs": [
        {
          "output_type": "stream",
          "name": "stdout",
          "text": [
            "1\n",
            "(4,)\n",
            "4\n",
            "int64\n",
            "8\n",
            "<memory at 0x7f30b547fbb0>\n"
          ]
        }
      ],
      "source": [
        "import numpy as np\n",
        "A=np.array([1,2,3,4]);\n",
        "print(A.ndim);\n",
        "print(A.shape);\n",
        "print(A.size);\n",
        "print(A.dtype);\n",
        "print(A.itemsize);\n",
        "print(A.data);"
      ]
    },
    {
      "cell_type": "code",
      "source": [
        "import numpy as np\n",
        "A=np.arange(2,10,dtype=float);\n",
        "B=np.arange(2,3,0.1);\n",
        "print(B);\n",
        "# print(A);"
      ],
      "metadata": {
        "colab": {
          "base_uri": "https://localhost:8080/"
        },
        "id": "fKMGQlOh2InA",
        "outputId": "9657e236-e98e-4495-c577-08ca6cc5da58"
      },
      "execution_count": null,
      "outputs": [
        {
          "output_type": "stream",
          "name": "stdout",
          "text": [
            "[2.  2.1 2.2 2.3 2.4 2.5 2.6 2.7 2.8 2.9]\n"
          ]
        }
      ]
    },
    {
      "cell_type": "code",
      "source": [
        "import numpy as np\n",
        "A=np.linspace(1.,4.,6);\n",
        "print(A);"
      ],
      "metadata": {
        "colab": {
          "base_uri": "https://localhost:8080/"
        },
        "id": "cyDC-Vn826-J",
        "outputId": "3e9e9306-7bec-4b52-b2fd-54b3fc3d356e"
      },
      "execution_count": null,
      "outputs": [
        {
          "output_type": "stream",
          "name": "stdout",
          "text": [
            "[1.  1.6 2.2 2.8 3.4 4. ]\n"
          ]
        }
      ]
    },
    {
      "cell_type": "code",
      "source": [
        "import numpy as np\n",
        "# A=np.eye(3);\n",
        "A=np.eye(3,5,k=1);\n",
        "print(A);"
      ],
      "metadata": {
        "colab": {
          "base_uri": "https://localhost:8080/"
        },
        "id": "1SYv0dz83XZX",
        "outputId": "03ea3e6d-fca4-47f0-e473-cce862beebc9"
      },
      "execution_count": null,
      "outputs": [
        {
          "output_type": "stream",
          "name": "stdout",
          "text": [
            "[[0. 1. 0. 0. 0.]\n",
            " [0. 0. 1. 0. 0.]\n",
            " [0. 0. 0. 1. 0.]]\n"
          ]
        }
      ]
    },
    {
      "cell_type": "code",
      "source": [
        "import numpy as np\n",
        "# A=np.diag([1,2,3]);\n",
        "A=np.array([[1,2],[3,4]]);\n",
        "print(np.diag(A,k=0));"
      ],
      "metadata": {
        "colab": {
          "base_uri": "https://localhost:8080/"
        },
        "id": "BFWZV0q63ylX",
        "outputId": "b779ed36-3fe2-4c85-efac-3ff2524cbf5f"
      },
      "execution_count": null,
      "outputs": [
        {
          "output_type": "stream",
          "name": "stdout",
          "text": [
            "[1 4]\n"
          ]
        }
      ]
    },
    {
      "cell_type": "code",
      "source": [
        "import numpy as np\n",
        "np.vander([1,2,3,4],3)"
      ],
      "metadata": {
        "colab": {
          "base_uri": "https://localhost:8080/"
        },
        "id": "wd1GJnHV4uKA",
        "outputId": "0604201c-e35f-4180-fa0f-14349a1d88fd"
      },
      "execution_count": null,
      "outputs": [
        {
          "output_type": "execute_result",
          "data": {
            "text/plain": [
              "array([[ 1,  1,  1],\n",
              "       [ 4,  2,  1],\n",
              "       [ 9,  3,  1],\n",
              "       [16,  4,  1]])"
            ]
          },
          "metadata": {},
          "execution_count": 1
        }
      ]
    },
    {
      "cell_type": "code",
      "source": [
        "\n",
        "total = 0\n",
        "\n",
        "list1 = [11, 5, 17, 18, 23]\n",
        "for ele in range(0, len(list1)):\n",
        "\ttotal = total + list1[ele]\n",
        "\n",
        "print(\"Sum of all elements in given list: \", total)\n"
      ],
      "metadata": {
        "id": "4dv6QjT8THLK"
      },
      "execution_count": null,
      "outputs": []
    },
    {
      "cell_type": "code",
      "source": [
        "\n",
        "list1 = [10, 20, 4, 45, 99]\n",
        "\n",
        "list1.sort()\n",
        "\n",
        "\n",
        "print(\"Largest element is:\", list1[-1])"
      ],
      "metadata": {
        "id": "toeftqFMTIOj"
      },
      "execution_count": null,
      "outputs": []
    },
    {
      "cell_type": "code",
      "source": [
        "a = (1, 11, 2)\n",
        "x = sorted(a)\n",
        "print(x)"
      ],
      "metadata": {
        "id": "taUcpDmcTNpw"
      },
      "execution_count": null,
      "outputs": []
    },
    {
      "cell_type": "code",
      "source": [
        "l = [1, 2, 4, 2, 1, 4, 5]\n",
        "print(\"Original List: \", l)\n",
        "res = [*set(l)]\n",
        "print(\"List after removing duplicate elements: \", res)\n"
      ],
      "metadata": {
        "id": "oD0m7sVaTN6L"
      },
      "execution_count": null,
      "outputs": []
    },
    {
      "cell_type": "code",
      "source": [
        "def long_words(n, str):\n",
        "    word_len = []\n",
        "    txt = str.split(\" \")\n",
        "    for x in txt:\n",
        "        if len(x) > n:\n",
        "            word_len.append(x)\n",
        "    return word_len\t\n",
        "print(long_words(3, \"The quick brown fox jumps over the lazy dog\"))"
      ],
      "metadata": {
        "id": "JJnth_WtTOIm"
      },
      "execution_count": null,
      "outputs": []
    },
    {
      "cell_type": "code",
      "source": [
        "li1 = [10, 15, 20, 25, 30, 35, 40]\n",
        "li2 = [25, 40, 35]\n",
        "\n",
        "temp3 = []\n",
        "for element in li1:\n",
        "\tif element not in li2:\n",
        "\t\ttemp3.append(element)\n",
        "\n",
        "print(temp3)\n"
      ],
      "metadata": {
        "id": "uPCfHoeTTOtK"
      },
      "execution_count": null,
      "outputs": []
    },
    {
      "cell_type": "code",
      "source": [
        "dict = {'key1': 'hey', 'key2': 'fill_me'}\n",
        "print(\"Current Dict is: \", dict)\n",
        "\n",
        "dict['key2'] = 'hi'\n",
        "dict['key3'] = 'world'\n",
        "print(\"Updated Dict is:\", dict)\n"
      ],
      "metadata": {
        "id": "ILDmWC2fTPC_"
      },
      "execution_count": null,
      "outputs": []
    },
    {
      "cell_type": "code",
      "source": [
        "d1={1:10,2:20}\n",
        "d2={3:30,4:40}\n",
        "d3={5:50,6:60}\n",
        "d1.update(d2)\n",
        "d1.update(d3)\n",
        "print(\"Concatenated dictionary is:\")\n",
        "print(d1)"
      ],
      "metadata": {
        "id": "sFl8r5JbTPWG"
      },
      "execution_count": null,
      "outputs": []
    },
    {
      "cell_type": "code",
      "source": [
        "\n",
        "test_dict = {\"Arushi\": 22, \"Mani\": 21, \"Haritha\": 21}\n",
        "del test_dict['Mani']\n",
        "\n",
        "print(\"The dictionary after remove is : \", test_dict)\n",
        "\n",
        "\n"
      ],
      "metadata": {
        "id": "WydtWJeWTPrV"
      },
      "execution_count": null,
      "outputs": []
    },
    {
      "cell_type": "code",
      "source": [
        "\n",
        "d = {\n",
        "\t'value1': 5,\n",
        "\t'value2': 4,\n",
        "\t'value3': 3,\n",
        "\t'value4': 2,\n",
        "\t'value5': 1,\n",
        "}\n",
        "\n",
        "\n",
        "answer = 1\n",
        "\n",
        "for i in d:\n",
        "\tanswer = answer*d[i]\n",
        "\n",
        "\n",
        "print(answer)\n"
      ],
      "metadata": {
        "colab": {
          "base_uri": "https://localhost:8080/"
        },
        "id": "02LuwjRiTP_f",
        "outputId": "49552f93-f946-4d4d-f57a-3d7a02b9e370"
      },
      "execution_count": 1,
      "outputs": [
        {
          "output_type": "stream",
          "name": "stdout",
          "text": [
            "120\n"
          ]
        }
      ]
    },
    {
      "cell_type": "code",
      "source": [
        ""
      ],
      "metadata": {
        "id": "6THbVo8XTQYd"
      },
      "execution_count": null,
      "outputs": []
    }
  ]
}